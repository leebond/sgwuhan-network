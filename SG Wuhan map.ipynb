{
 "cells": [
  {
   "cell_type": "code",
   "execution_count": 32,
   "metadata": {},
   "outputs": [],
   "source": [
    "import requests\n",
    "import json\n",
    "import re\n",
    "import networkx as nx"
   ]
  },
  {
   "cell_type": "code",
   "execution_count": 13,
   "metadata": {},
   "outputs": [],
   "source": [
    "sgwuhan_api = 'https://sgwuhan.xose.net/api/'\n",
    "data = requests.get(sgwuhan_api)"
   ]
  },
  {
   "cell_type": "code",
   "execution_count": 26,
   "metadata": {},
   "outputs": [],
   "source": [
    "data_dict = dict(data.json())"
   ]
  },
  {
   "cell_type": "code",
   "execution_count": 29,
   "metadata": {},
   "outputs": [
    {
     "data": {
      "text/plain": [
       "dict_keys(['author_msg', 'readme', 'data'])"
      ]
     },
     "execution_count": 29,
     "metadata": {},
     "output_type": "execute_result"
    }
   ],
   "source": [
    "data_dict.keys()"
   ]
  },
  {
   "cell_type": "code",
   "execution_count": 31,
   "metadata": {},
   "outputs": [
    {
     "name": "stdout",
     "output_type": "stream",
     "text": [
      "{'lat': 1.2577323, 'lng': 103.8097962, 'caseType': 'oldCase', 'age': '66', 'gender': 'Male', 'from': 'China, Wuhan', 'stayed': \"Shangri-La's Rasa Sentosa Resort and Spa\", 'visited': 'Singapore General Hospital', 'caseNo': '#1', 'citizenship': 'China', 'relatedArrayNo': '19', 'mohURL': 'confirmed-imported-case-of-novel-coronavirus-infection-in-singapore-multi-ministry-taskforce-ramps-up-precautionary-measures', 'location': '', 'relatedCaseNo': ''}\n",
      "{'lat': 1.3075996, 'lng': 103.8585204, 'caseType': 'oldCase', 'age': '53', 'gender': 'Female', 'from': 'China, Wuhan', 'stayed': 'J8 Hotel', 'visited': 'Tan Tock Seng Hospital, Raffles Hospital, Orchard Road, Marina Bay Sands, Gardens by the Bay', 'caseNo': '#2', 'citizenship': 'China', 'relatedArrayNo': '20,21,22,23,24', 'mohURL': 'two-more-cases-of-confirmed-imported-case-of-novel-coronavirus-infection-in-singapore', 'location': '', 'relatedCaseNo': ''}\n",
      "{'lat': 1.257763, 'lng': 103.810018, 'caseType': 'oldCase', 'age': '36', 'gender': 'Male', 'from': 'China, Wuhan', 'stayed': \"Shangri-La's Rasa Sentosa Resort and Spa\", 'visited': 'Singapore General Hospital', 'caseNo': '#3', 'citizenship': 'China', 'relatedArrayNo': '19', 'mohURL': 'two-more-cases-of-confirmed-imported-case-of-novel-coronavirus-infection-in-singapore', 'location': '', 'relatedCaseNo': ''}\n",
      "{'lat': 1.25212715122, 'lng': 103.820006847, 'caseType': 'oldCase', 'age': '36', 'gender': 'Male', 'from': 'China, Wuhan', 'stayed': 'Village Hotel Sentosa', 'visited': 'Sengkang General Hospital, Universal Studios Singapore, Vivocity', 'caseNo': '#4', 'citizenship': 'China', 'relatedArrayNo': '25,26,27', 'mohURL': 'update-on-wuhan-coronavirus-infection-in-singapore', 'location': '', 'relatedCaseNo': ''}\n",
      "{'lat': 1.30817132582, 'lng': 103.900929093, 'caseType': 'oldCase', 'age': '56', 'gender': 'Female', 'from': 'China, Wuhan', 'stayed': 'Ceylon Road', 'visited': 'Tan Tock Seng Hospital', 'caseNo': '#5', 'citizenship': 'China', 'relatedArrayNo': '20', 'mohURL': 'fifth-confirmed-imported-case-of-wuhan-coronavirus-infection-in-singapore-27Jan', 'location': '', 'relatedCaseNo': ''}\n",
      "{'lat': 1.37177592217, 'lng': 103.944834173, 'caseType': 'oldCase', 'age': '56', 'gender': 'Male', 'from': 'China, Wuhan', 'stayed': 'Pasir Ris Grove', 'visited': 'Changi General Hospital', 'caseNo': '#6', 'citizenship': 'China', 'relatedArrayNo': '28', 'mohURL': 'two-more-confirmed-imported-cases-of-wuhan-coronavirus-infection-in-singapore', 'location': '', 'relatedCaseNo': ''}\n",
      "{'lat': 1.28330824331, 'lng': 103.860577941, 'caseType': 'oldCase', 'age': '35', 'gender': 'Male', 'from': 'China, Wuhan', 'stayed': 'Marina Bay Sands', 'visited': 'Raffles Hospital', 'caseNo': '#7', 'citizenship': 'China', 'relatedArrayNo': '21', 'mohURL': 'two-more-confirmed-imported-cases-of-wuhan-coronavirus-infection-in-singapore', 'location': '', 'relatedCaseNo': ''}\n",
      "{'lat': 1.350104424, 'lng': 103.877644837, 'caseType': 'oldCase', 'age': '56', 'gender': 'Male', 'from': 'China, Wuhan', 'stayed': 'Lorong Lew Lian', 'visited': 'Tan Tock Seng Hospital', 'caseNo': '#8', 'citizenship': 'China', 'relatedArrayNo': '20', 'mohURL': 'three-more-confirmed-imported-cases-of-wuhan-coronavirus-infection-in-singapore', 'location': '', 'relatedCaseNo': ''}\n",
      "{'lat': 1.35016073475, 'lng': 103.877567053, 'caseType': 'oldCase', 'age': '56', 'gender': 'Female', 'from': 'China, Wuhan', 'stayed': 'Lorong Lew Lian', 'visited': 'Tan Tock Seng Hospital', 'caseNo': '#9', 'citizenship': 'China', 'relatedArrayNo': '20', 'mohURL': 'three-more-confirmed-imported-cases-of-wuhan-coronavirus-infection-in-singapore', 'location': '', 'relatedCaseNo': ''}\n",
      "{'lat': 1.2707012, 'lng': 103.8631688, 'caseType': 'oldCase', 'age': '56', 'gender': 'Male', 'from': 'China, Wuhan', 'stayed': 'Cargo vessel', 'visited': 'Marina South Pier', 'caseNo': '#10', 'citizenship': 'China', 'relatedArrayNo': '', 'mohURL': 'three-more-confirmed-imported-cases-of-wuhan-coronavirus-infection-in-singapore', 'location': '', 'relatedCaseNo': ''}\n",
      "{'lat': 1.25210033554, 'lng': 103.820199966, 'caseType': 'oldCase', 'age': '31', 'gender': 'Female', 'from': 'China, Wuhan', 'stayed': 'Village Hotel Sentosa', 'visited': 'Sengkang General Hospital, Universal Studios Singapore, Vivocity', 'caseNo': '#11', 'citizenship': 'China', 'relatedArrayNo': '25,26,27', 'mohURL': 'three-more-confirmed-imported-cases-of-wuhan-coronavirus-infection-in-singapore-30Jan', 'location': '', 'relatedCaseNo': ''}\n",
      "{'lat': 1.25212715122, 'lng': 103.819829822, 'caseType': 'oldCase', 'age': '37', 'gender': 'Female', 'from': 'China, Wuhan', 'stayed': 'Village Hotel Sentosa, Hotel 81 Princess, Home Suite View Hotel', 'visited': 'Orchard Road, Geylang', 'caseNo': '#12', 'citizenship': 'China', 'relatedArrayNo': '11,12,13,22,29', 'mohURL': 'three-more-confirmed-imported-cases-of-wuhan-coronavirus-infection-in-singapore-30Jan', 'location': '', 'relatedCaseNo': ''}\n",
      "{'lat': 1.31094936857, 'lng': 103.878650665, 'caseType': 'oldCase', 'age': '37', 'gender': 'Female', 'from': 'China, Wuhan', 'stayed': 'Village Hotel Sentosa, Hotel 81 Princess, Home Suite View Hotel', 'visited': 'Orchard Road, Geylang', 'caseNo': '#12', 'citizenship': 'China', 'relatedArrayNo': '11,12,13,22,29', 'mohURL': 'three-more-confirmed-imported-cases-of-wuhan-coronavirus-infection-in-singapore-30Jan', 'location': '', 'relatedCaseNo': ''}\n",
      "{'lat': 1.3114104, 'lng': 103.8780933, 'caseType': 'oldCase', 'age': '37', 'gender': 'Female', 'from': 'China, Wuhan', 'stayed': 'Village Hotel Sentosa, Hotel 81 Princess, Home Suite View Hotel', 'visited': 'Orchard Road, Geylang', 'caseNo': '#12', 'citizenship': 'China', 'relatedArrayNo': '11,12,13,22,29', 'mohURL': 'three-more-confirmed-imported-cases-of-wuhan-coronavirus-infection-in-singapore-30Jan', 'location': '', 'relatedCaseNo': ''}\n",
      "{'lat': 1.28549101288, 'lng': 103.846496344, 'caseType': 'oldCase', 'age': '73', 'gender': 'Female', 'from': 'China, Wuhan', 'stayed': 'ParkRoyal Collection Pickering, Oasia Hotel Downtown', 'visited': ' Changi Airport, Jewel', 'caseNo': '#13', 'citizenship': 'China', 'relatedArrayNo': '14,15,30', 'mohURL': 'three-more-confirmed-imported-cases-of-wuhan-coronavirus-infection-in-singapore-31-jan', 'location': '', 'relatedCaseNo': ''}\n",
      "{'lat': 1.27596618653, 'lng': 103.844254017, 'caseType': 'oldCase', 'age': '73', 'gender': 'Female', 'from': 'China, Wuhan', 'stayed': 'ParkRoyal Collection Pickering, Oasia Hotel Downtown', 'visited': ' Changi Airport, Jewel', 'caseNo': '#13', 'citizenship': 'China', 'relatedArrayNo': '14,15,30', 'mohURL': 'three-more-confirmed-imported-cases-of-wuhan-coronavirus-infection-in-singapore-31-jan', 'location': '', 'relatedCaseNo': ''}\n",
      "{'lat': 1.33608300636, 'lng': 103.737467229, 'caseType': 'oldCase', 'age': '31', 'gender': 'Male', 'from': 'China, Hubei', 'stayed': 'Jurong East Street 13', 'visited': 'GP Clinic', 'caseNo': '#14', 'citizenship': 'China', 'relatedArrayNo': '', 'mohURL': 'three-more-confirmed-imported-cases-of-wuhan-coronavirus-infection-in-singapore-31-jan', 'location': '', 'relatedCaseNo': ''}\n",
      "{'lat': 1.36281989482, 'lng': 103.99087429, 'caseType': 'oldCase', 'age': '47', 'gender': 'Female', 'from': 'Singapore', 'stayed': 'Arrived in Singapore', 'visited': 'China, Wuhan', 'caseNo': '#15', 'citizenship': 'Singapore', 'relatedArrayNo': '', 'mohURL': 'three-more-confirmed-imported-cases-of-wuhan-coronavirus-infection-in-singapore-31-jan', 'location': '', 'relatedCaseNo': ''}\n",
      "{'lat': 1.2962606, 'lng': 103.8256719, 'caseType': 'oldCase', 'age': '38', 'gender': 'Male', 'from': 'China, Hubei', 'stayed': 'Nathan Road', 'visited': 'Singapore General Hospital', 'caseNo': '#16', 'citizenship': 'China', 'relatedArrayNo': '19', 'mohURL': 'two-more-confirmed-imported-cases-of-novel-coronavirus-infection-in-singapore', 'location': '', 'relatedCaseNo': ''}\n",
      "{'lat': 1.2790499602, 'lng': 103.834353983, 'caseType': 'etcCase', 'location': 'Singapore General Hospital', 'relatedCaseNo': '#1, #3, #16, #19, #21, #35', 'relatedArrayNo': '0,2,18,33,35,71', 'mohURL': '', 'age': '', 'gender': '', 'from': '', 'stayed': '', 'visited': '', 'caseNo': '', 'citizenship': ''}\n",
      "{'lat': 1.32141258681, 'lng': 103.84583652, 'caseType': 'etcCase', 'location': 'Tan Tock Seng Hospital', 'relatedCaseNo': '#2, #5, #8, #9, #19, #41', 'relatedArrayNo': '1,4,7,8,33', 'mohURL': '', 'age': '', 'gender': '', 'from': '', 'stayed': '', 'visited': '', 'caseNo': '', 'citizenship': ''}\n",
      "{'lat': 1.30137100743, 'lng': 103.857273459, 'caseType': 'etcCase', 'location': 'Raffles Hospital', 'relatedCaseNo': '#2, #7', 'relatedArrayNo': '1,6', 'mohURL': '', 'age': '', 'gender': '', 'from': '', 'stayed': '', 'visited': '', 'caseNo': '', 'citizenship': ''}\n",
      "{'lat': 1.30337678148, 'lng': 103.834903836, 'caseType': 'etcCase', 'location': 'Orchard Road', 'relatedCaseNo': '#2, #12', 'relatedArrayNo': '1,11,12', 'mohURL': '', 'age': '', 'gender': '', 'from': '', 'stayed': '', 'visited': '', 'caseNo': '', 'citizenship': ''}\n",
      "{'lat': 1.283769, 'lng': 103.860852, 'caseType': 'etcCase', 'location': 'Marina Bay Sands', 'relatedCaseNo': '#2, #38', 'relatedArrayNo': '1,77', 'mohURL': '', 'age': '', 'gender': '', 'from': '', 'stayed': '', 'visited': '', 'caseNo': '', 'citizenship': ''}\n",
      "{'lat': 1.28186, 'lng': 103.863974, 'caseType': 'etcCase', 'location': 'Gardens by the Bay', 'relatedCaseNo': '#2', 'relatedArrayNo': '1', 'mohURL': '', 'age': '', 'gender': '', 'from': '', 'stayed': '', 'visited': '', 'caseNo': '', 'citizenship': ''}\n",
      "{'lat': 1.3943174, 'lng': 103.8930611, 'caseType': 'etcCase', 'location': 'Sengkang General Hospital', 'relatedCaseNo': '#4, #11, #43', 'relatedArrayNo': '3,10,89', 'mohURL': '', 'age': '', 'gender': '', 'from': '', 'stayed': '', 'visited': '', 'caseNo': '', 'citizenship': ''}\n",
      "{'lat': 1.25476581335, 'lng': 103.822613955, 'caseType': 'etcCase', 'location': 'Universal Studios Singapore', 'relatedCaseNo': '#4, #11', 'relatedArrayNo': '3,10', 'mohURL': '', 'age': '', 'gender': '', 'from': '', 'stayed': '', 'visited': '', 'caseNo': '', 'citizenship': ''}\n",
      "{'lat': 1.26469295122, 'lng': 103.822292089, 'caseType': 'etcCase', 'location': 'Vivocity', 'relatedCaseNo': '#4, #11', 'relatedArrayNo': '3,10', 'mohURL': '', 'age': '', 'gender': '', 'from': '', 'stayed': '', 'visited': '', 'caseNo': '', 'citizenship': ''}\n",
      "{'lat': 1.3406594, 'lng': 103.9494492, 'caseType': 'etcCase', 'location': 'Changi General Hospital', 'relatedCaseNo': '#6, #31, #42', 'relatedArrayNo': '5,60,86', 'mohURL': '', 'age': '', 'gender': '', 'from': '', 'stayed': '', 'visited': '', 'caseNo': '', 'citizenship': ''}\n",
      "{'lat': 1.31972324394, 'lng': 103.888387084, 'caseType': 'etcCase', 'location': 'Geylang', 'relatedCaseNo': '#12', 'relatedArrayNo': '11,12,13,29', 'mohURL': '', 'age': '', 'gender': '', 'from': '', 'stayed': '', 'visited': '', 'caseNo': '', 'citizenship': ''}\n",
      "{'lat': 1.36062646747, 'lng': 103.989726305, 'caseType': 'etcCase', 'location': 'Jewel', 'relatedCaseNo': '#13', 'relatedArrayNo': '14,15', 'mohURL': '', 'age': '', 'gender': '', 'from': '', 'stayed': '', 'visited': '', 'caseNo': '', 'citizenship': ''}\n",
      "{'lat': 1.36270727391, 'lng': 103.991131783, 'caseType': 'oldCase', 'age': '47', 'gender': 'Female', 'from': 'Singapore', 'stayed': 'Arrived in Singapore', 'visited': 'China, Wuhan', 'caseNo': '#17', 'citizenship': 'Singapore', 'relatedArrayNo': '', 'mohURL': 'two-more-confirmed-imported-cases-of-novel-coronavirus-infection-in-singapore', 'location': '', 'relatedCaseNo': ''}\n",
      "{'lat': 1.31126578637, 'lng': 103.878130317, 'caseType': 'oldCase', 'age': '31', 'gender': 'Female', 'from': 'China, Wuhan', 'stayed': 'Home Suite View Hotel', 'visited': 'Hotel room only', 'caseNo': '#18', 'citizenship': 'China', 'relatedArrayNo': '', 'mohURL': 'no-new-confirmed-cases-of-novel-coronavirus-infection-in-singapore', 'location': '', 'relatedCaseNo': ''}\n",
      "{'lat': 1.28475359094, 'lng': 103.815278113, 'caseType': 'oldCase', 'age': '28', 'gender': 'Female', 'from': 'Singapore', 'stayed': 'Jalan Bukit Merah', 'visited': 'Singapore General Hospital, Tan Tock Seng Hospital, GP Clinic, Yong Thai Hang, Diamond Industries Jewellery, Meeting You Restaurant, Royal Dragon Restaurant, T Galleria by DFS, DResort @ Downtown East', 'caseNo': '#19', 'citizenship': 'Singapore', 'relatedArrayNo': '19,20,39,44,50,51,52,53', 'mohURL': 'confirmed-cases-of-local-transmission-of-novel-coronavirus-infection-in-singapore', 'location': '', 'relatedCaseNo': ''}\n",
      "{'lat': 1.37476572624, 'lng': 103.885970414, 'caseType': 'oldCase', 'age': '48', 'gender': 'Female', 'from': 'Singapore', 'stayed': 'Hougang Street 61', 'visited': 'Yong Thai Hang, Diamond Industries Jewellery, Meeting You Restaurant, Royal Dragon Restaurant, T Galleria by DFS, DResort @ Downtown East', 'caseNo': '#20', 'citizenship': 'Singapore', 'relatedArrayNo': '39,44,50,51,52,53', 'mohURL': 'confirmed-cases-of-local-transmission-of-novel-coronavirus-infection-in-singapore', 'location': '', 'relatedCaseNo': ''}\n",
      "{'lat': 1.28479917703, 'lng': 103.815087676, 'caseType': 'oldCase', 'age': '44', 'gender': 'Female', 'from': 'Singapore', 'stayed': 'Jalan Bukit Merah', 'visited': 'Singapore General Hospital, Yong Thai Hang, Diamond Industries Jewellery, Meeting You Restaurant, Royal Dragon Restaurant, T Galleria by DFS, DResort @ Downtown East', 'caseNo': '#21', 'citizenship': 'Indonesia', 'relatedArrayNo': '19,39,44,50,51,52,53', 'mohURL': 'confirmed-cases-of-local-transmission-of-novel-coronavirus-infection-in-singapore', 'location': '', 'relatedCaseNo': ''}\n",
      "{'lat': 1.36292983428, 'lng': 103.99122566, 'caseType': 'oldCase', 'age': '41', 'gender': 'Male', 'from': 'Singapore', 'stayed': 'Arrived in Singapore', 'visited': 'China, Wuhan', 'caseNo': '#22', 'citizenship': 'Singapore', 'relatedArrayNo': '', 'mohURL': 'four-more-confirmed-cases-of-novel-coronavirus-infection-in-singapore', 'location': '', 'relatedCaseNo': ''}\n",
      "{'lat': 1.36307195114, 'lng': 103.990965486, 'caseType': 'oldCase', 'age': '17', 'gender': 'Male', 'from': 'Singapore', 'stayed': 'Arrived in Singapore', 'visited': 'China, Wuhan', 'caseNo': '#23', 'citizenship': 'Singapore', 'relatedArrayNo': '', 'mohURL': 'four-more-confirmed-cases-of-novel-coronavirus-infection-in-singapore', 'location': '', 'relatedCaseNo': ''}\n",
      "{'lat': 1.3793195, 'lng': 103.8826748, 'caseType': 'oldCase', 'age': '32', 'gender': 'Female', 'from': 'Singapore', 'stayed': 'Buangkok Green', 'visited': 'Yong Thai Hang, Jalan Besar, Hougang Polyclinic, Diamond Industries Jewellery, Meeting You Restaurant, Royal Dragon Restaurant, T Galleria by DFS, DResort @ Downtown East', 'caseNo': '#24', 'citizenship': 'Singapore', 'relatedArrayNo': '39,41,42,44,50,51,52,53', 'mohURL': 'confirmed-cases-of-local-transmission-of-novel-coronavirus-infection-in-singapore', 'location': '', 'relatedCaseNo': ''}\n",
      "{'lat': 1.31103249529, 'lng': 103.861691058, 'caseType': 'etcCase', 'location': 'Yong Thai Hang', 'relatedCaseNo': '#19, #20, #21, #24, #25, #27, #34, #40', 'relatedArrayNo': '33,34,38,35,43,47,48,70,82', 'mohURL': '', 'age': '', 'gender': '', 'from': '', 'stayed': '', 'visited': '', 'caseNo': '', 'citizenship': ''}\n",
      "{'lat': 1.30645247736, 'lng': 103.833321333, 'caseType': 'etcCase', 'location': 'Grand Hyatt Hotel', 'relatedCaseNo': 'Malaysia Case, #30, #36, #39', 'relatedArrayNo': '59,75,81', 'mohURL': 'confirmed-cases-of-local-transmission-of-novel-coronavirus-infection-in-singapore', 'age': '', 'gender': '', 'from': '', 'stayed': '', 'visited': '', 'caseNo': '', 'citizenship': ''}\n",
      "{'lat': 1.3084521, 'lng': 103.8572259, 'caseType': 'etcCase', 'location': 'Jalan Besar', 'relatedCaseNo': '#24', 'relatedArrayNo': '39', 'mohURL': '', 'age': '', 'gender': '', 'from': '', 'stayed': '', 'visited': '', 'caseNo': '', 'citizenship': ''}\n",
      "{'lat': 1.3697792, 'lng': 103.8889489, 'caseType': 'etcCase', 'location': 'Hougang Polyclinic', 'relatedCaseNo': '#24, #25, #41', 'relatedArrayNo': '39,43,83', 'mohURL': '', 'age': '', 'gender': '', 'from': '', 'stayed': '', 'visited': '', 'caseNo': '', 'citizenship': ''}\n",
      "{'lat': 1.37916596021, 'lng': 103.882692754, 'caseType': 'oldCase', 'age': '40', 'gender': 'Male', 'from': 'Singapore', 'stayed': 'Buangkok Green', 'visited': 'Hougang Polyclinic, Pasir Panjang Hawker Centre, Diamond Industries Jewellery Company, Yong Thai Hang, Meeting You Restaurant, Royal Dragon Restaurant, T Galleria by DFS, DResort @ Downtown East', 'caseNo': '#25', 'citizenship': 'Singapore', 'relatedArrayNo': '42,44,45,39,50,51,52,53', 'mohURL': 'four-more-confirmed-cases-of-novel-coronavirus-infection-in-singapore', 'location': '', 'relatedCaseNo': ''}\n",
      "{'lat': 1.2829704, 'lng': 103.7793822, 'caseType': 'etcCase', 'location': 'Diamond Industries Jewellery Company', 'relatedCaseNo': '#19, #20, #21, #24, #25, #27', 'relatedArrayNo': '43,33,34,35,38,47,48', 'mohURL': '', 'age': '', 'gender': '', 'from': '', 'stayed': '', 'visited': '', 'caseNo': '', 'citizenship': ''}\n",
      "{'lat': 1.2759554, 'lng': 103.7913374, 'caseType': 'etcCase', 'location': 'Pasir Panjang Hawker Centre', 'relatedCaseNo': '#25', 'relatedArrayNo': '43', 'mohURL': '', 'age': '', 'gender': '', 'from': '', 'stayed': '', 'visited': '', 'caseNo': '', 'citizenship': ''}\n",
      "{'lat': 1.32152520963, 'lng': 103.847638965, 'caseType': 'oldCase', 'age': '42', 'gender': 'Female', 'from': 'China, Wuhan', 'stayed': 'No info by MOH', 'visited': 'No info by MOH', 'caseNo': '#26', 'citizenship': 'China', 'relatedArrayNo': '', 'mohURL': 'four-more-confirmed-cases-of-novel-coronavirus-infection-in-singapore', 'location': '', 'relatedCaseNo': ''}\n",
      "{'lat': 1.28465705569, 'lng': 103.815594614, 'caseType': 'oldCase', 'age': '25', 'gender': 'Male', 'from': 'Singapore', 'stayed': 'Jalan Bukit Merah', 'visited': 'Yong Thai Hang, Diamond Industries Jewellery, Meeting You Restaurant, Royal Dragon Restaurant, T Galleria by DFS, DResort @ Downtown East, Tiong Bahru Plaza, Tiong Bahru Market, Beo Crescent Market and Food Centre', 'caseNo': '#27', 'citizenship': 'Singapore', 'relatedArrayNo': '39,44,50,51,52,53,55,56', 'mohURL': 'four-more-confirmed-cases-of-novel-coronavirus-infection-in-singapore', 'location': '', 'relatedCaseNo': ''}\n",
      "{'lat': 1.28469996024, 'lng': 103.815433681, 'caseType': 'oldCase', 'age': '6 months', 'gender': 'Male', 'from': 'Singapore', 'stayed': 'Jalan Bukit Merah', 'visited': 'KK Womens and Childrens Hospital, Yong Thai Hang, Diamond Industries Jewellery, Meeting You Restaurant, Royal Dragon Restaurant, T Galleria by DFS, DResort @ Downtown East', 'caseNo': '#28', 'citizenship': 'Singapore', 'relatedArrayNo': '49,39,44,50,51,52,53', 'mohURL': 'four-more-confirmed-cases-of-novel-coronavirus-infection-in-singapore', 'location': '', 'relatedCaseNo': ''}\n",
      "{'lat': 1.31084210829, 'lng': 103.846727014, 'caseType': 'etcCase', 'location': 'KK Womens and Childrens Hospital', 'relatedCaseNo': '#28, #36', 'relatedArrayNo': '48,75', 'mohURL': '', 'age': '', 'gender': '', 'from': '', 'stayed': '', 'visited': '', 'caseNo': '', 'citizenship': ''}\n",
      "{'lat': 1.31117729665, 'lng': 103.860875666, 'caseType': 'etcCase', 'location': 'Meeting You Restaurant', 'relatedCaseNo': '#19, #20, #21, #24, #25, #27', 'relatedArrayNo': '33,34,35,38,43,47,48', 'mohURL': '', 'age': '', 'gender': '', 'from': '', 'stayed': '', 'visited': '', 'caseNo': '', 'citizenship': ''}\n",
      "{'lat': 1.2875557932, 'lng': 103.845292032, 'caseType': 'etcCase', 'location': 'Royal Dragon Restaurant', 'relatedCaseNo': '#19, #20, #21, #24, #25, #27', 'relatedArrayNo': '33,34,35,38,43,47,48', 'mohURL': '', 'age': '', 'gender': '', 'from': '', 'stayed': '', 'visited': '', 'caseNo': '', 'citizenship': ''}\n",
      "{'lat': 1.30744731803, 'lng': 103.832511306, 'caseType': 'etcCase', 'location': 'T Galleria by DFS', 'relatedCaseNo': '#19, #20, #21, #24, #25, #27', 'relatedArrayNo': '33,34,35,38,43,47,48', 'mohURL': '', 'age': '', 'gender': '', 'from': '', 'stayed': '', 'visited': '', 'caseNo': '', 'citizenship': ''}\n",
      "{'lat': 1.37909624298, 'lng': 103.954511583, 'caseType': 'etcCase', 'location': 'DResort @ Downtown East', 'relatedCaseNo': '#19, #20, #21, #24, #25, #27', 'relatedArrayNo': '33,34,35,38,43,47,48', 'mohURL': '', 'age': '', 'gender': '', 'from': '', 'stayed': '', 'visited': '', 'caseNo': '', 'citizenship': ''}\n",
      "{'lat': 1.32124097108, 'lng': 103.847939372, 'caseType': 'oldCase', 'age': '41', 'gender': 'Male', 'from': 'Singapore', 'stayed': 'No info by MOH', 'visited': 'Mount Elizabeth Novena Hospital, GP clinic', 'caseNo': '#29', 'citizenship': 'Singapore', 'relatedArrayNo': '58', 'mohURL': 'two-more-confirmed-cases-of-novel-coronavirus-infection-in-singapore', 'location': '', 'relatedCaseNo': ''}\n",
      "{'lat': 1.28637591894, 'lng': 103.827141523, 'caseType': 'etcCase', 'location': 'Tiong Bahru Plaza', 'relatedCaseNo': '#27', 'relatedArrayNo': '47', 'mohURL': '', 'age': '', 'gender': '', 'from': '', 'stayed': '', 'visited': '', 'caseNo': '', 'citizenship': ''}\n",
      "{'lat': 1.28514241345, 'lng': 103.832546175, 'caseType': 'etcCase', 'location': 'Tiong Bahru Market', 'relatedCaseNo': '#27', 'relatedArrayNo': '47', 'mohURL': '', 'age': '', 'gender': '', 'from': '', 'stayed': '', 'visited': '', 'caseNo': '', 'citizenship': ''}\n",
      "{'lat': 1.2888355, 'lng': 103.8273132, 'caseType': 'etcCase', 'location': 'Beo Crescent Market and Food Centre', 'relatedCaseNo': '#27', 'relatedArrayNo': '47', 'mohURL': '', 'age': '', 'gender': '', 'from': '', 'stayed': '', 'visited': '', 'caseNo': '', 'citizenship': ''}\n",
      "{'lat': 1.3222356, 'lng': 103.8439378, 'caseType': 'etcCase', 'location': 'Mount Elizabeth Novena Hospital', 'relatedCaseNo': '#29', 'relatedArrayNo': '54', 'mohURL': '', 'age': '', 'gender': '', 'from': '', 'stayed': '', 'visited': '', 'caseNo': '', 'citizenship': ''}\n",
      "{'lat': 1.351552, 'lng': 103.8370736, 'caseType': 'oldCase', 'age': '27', 'gender': 'Male', 'from': 'Singapore', 'stayed': 'Shunfu Road', 'visited': 'Grand Hyatt Hotel, Far East Square, Junction 8', 'caseNo': '#30', 'citizenship': 'Singapore', 'relatedArrayNo': '68,69,40', 'mohURL': 'three-more-confirmed-cases-of-novel-coronavirus-infection-in-singapore', 'location': '', 'relatedCaseNo': ''}\n",
      "{'lat': 1.35529305207, 'lng': 103.95175159, 'caseType': 'oldCase', 'age': '53', 'gender': 'Male', 'from': 'Singapore', 'stayed': 'Tampines Street 24', 'visited': 'Malaysia, Changi General Hospital, GP Clinic, The Life Church and Missions', 'caseNo': '#31', 'citizenship': 'Singapore', 'relatedArrayNo': '61,28', 'mohURL': 'three-more-confirmed-cases-of-novel-coronavirus-infection-in-singapore', 'location': '', 'relatedCaseNo': ''}\n",
      "{'lat': 1.3278642571, 'lng': 103.890736699, 'caseType': 'etcCase', 'location': 'The Life Church and Missions', 'relatedCaseNo': '#31, #38', 'relatedArrayNo': '60,77', 'mohURL': '', 'age': '', 'gender': '', 'from': '', 'stayed': '', 'visited': '', 'caseNo': '', 'citizenship': ''}\n",
      "{'lat': 1.37673390014, 'lng': 103.941277564, 'caseType': 'oldCase', 'age': '42', 'gender': 'Female', 'from': 'Singapore', 'stayed': 'Elias Road', 'visited': 'Parkway East Hospital, Victoria Junior College, Changi Airport, Singapore Zoo', 'caseNo': '#32', 'citizenship': 'Singapore', 'relatedArrayNo': '63,64,65,66', 'mohURL': 'three-more-confirmed-cases-of-novel-coronavirus-infection-in-singapore', 'location': '', 'relatedCaseNo': ''}\n",
      "{'lat': 1.31503061884, 'lng': 103.90881747, 'caseType': 'etcCase', 'location': 'Parkway East Hospital', 'relatedCaseNo': '#32', 'relatedArrayNo': '62', 'mohURL': '', 'age': '', 'gender': '', 'from': '', 'stayed': '', 'visited': '', 'caseNo': '', 'citizenship': ''}\n",
      "{'lat': 1.30590008588, 'lng': 103.919562399, 'caseType': 'etcCase', 'location': 'Victoria Junior College', 'relatedCaseNo': '#32', 'relatedArrayNo': '62', 'mohURL': '', 'age': '', 'gender': '', 'from': '', 'stayed': '', 'visited': '', 'caseNo': '', 'citizenship': ''}\n",
      "{'lat': 1.3616454193, 'lng': 103.990348577, 'caseType': 'etcCase', 'location': 'Changi Airport', 'relatedCaseNo': '#32', 'relatedArrayNo': '62', 'mohURL': '', 'age': '', 'gender': '', 'from': '', 'stayed': '', 'visited': '', 'caseNo': '', 'citizenship': ''}\n",
      "{'lat': 1.40408169514, 'lng': 103.794225454, 'caseType': 'etcCase', 'location': 'Singapore Zoo', 'relatedCaseNo': '#32', 'relatedArrayNo': '62', 'mohURL': '', 'age': '', 'gender': '', 'from': '', 'stayed': '', 'visited': '', 'caseNo': '', 'citizenship': ''}\n",
      "{'lat': 1.3943320911, 'lng': 103.892895877, 'caseType': 'oldCase', 'age': '39', 'gender': 'Female', 'from': 'Singapore', 'stayed': 'No info by MOH', 'visited': 'Malaysia, Sengkang General Hospital', 'caseNo': '#33', 'citizenship': 'Singapore', 'relatedArrayNo': '', 'mohURL': 'three-more-confirmed-cases-of-novel-coronavirus-infection-in-singapore', 'location': '', 'relatedCaseNo': ''}\n",
      "{'lat': 1.2830099, 'lng': 103.8478154, 'caseType': 'etcCase', 'location': 'Far East Square', 'relatedCaseNo': '#30', 'relatedArrayNo': '59', 'mohURL': '', 'age': '', 'gender': '', 'from': '', 'stayed': '', 'visited': '', 'caseNo': '', 'citizenship': ''}\n",
      "{'lat': 1.35087668562, 'lng': 103.848958611, 'caseType': 'etcCase', 'location': 'Junction 8', 'relatedCaseNo': '#30', 'relatedArrayNo': '59', 'mohURL': '', 'age': '', 'gender': '', 'from': '', 'stayed': '', 'visited': '', 'caseNo': '', 'citizenship': ''}\n",
      "{'lat': 1.3559151504, 'lng': 103.837832808, 'caseType': 'oldCase', 'age': '40', 'gender': 'Female', 'from': 'Singapore', 'stayed': 'Sin Ming Road', 'visited': 'GP Clinic, Yong Thai Hang', 'caseNo': '#34', 'citizenship': 'Singapore', 'relatedArrayNo': '39', 'mohURL': 'seven-more-confirmed-cases-of-novel-coronavirus-infection-in-singapore', 'location': '', 'relatedCaseNo': ''}\n",
      "{'lat': 1.28919152707, 'lng': 103.822160661, 'caseType': 'oldCase', 'age': '64', 'gender': 'Male', 'from': 'Singapore', 'stayed': 'Henderson Crescent', 'visited': 'Singapore General Hospital, Bukit Merah Polyclinic, Redhill Market, Bukit Merah hawker centre', 'caseNo': '#35', 'citizenship': 'Singapore', 'relatedArrayNo': '72,73,19', 'mohURL': 'seven-more-confirmed-cases-of-novel-coronavirus-infection-in-singapore', 'location': '', 'relatedCaseNo': ''}\n",
      "{'lat': 1.28374533368, 'lng': 103.817190528, 'caseType': 'etcCase', 'location': 'Bukit Merah Polyclinic', 'relatedCaseNo': '#35', 'relatedArrayNo': '71', 'mohURL': '', 'age': '', 'gender': '', 'from': '', 'stayed': '', 'visited': '', 'caseNo': '', 'citizenship': ''}\n",
      "{'lat': 1.2878266279, 'lng': 103.818496764, 'caseType': 'etcCase', 'location': 'Redhill Market', 'relatedCaseNo': '#35', 'relatedArrayNo': '71', 'mohURL': '', 'age': '', 'gender': '', 'from': '', 'stayed': '', 'visited': '', 'caseNo': '', 'citizenship': ''}\n",
      "{'lat': 1.33340688808, 'lng': 103.745588958, 'caseType': 'etcCase', 'location': 'Ng Teng Fong General Hospital', 'relatedCaseNo': '#36, #37', 'relatedArrayNo': '75,76', 'mohURL': '', 'age': '', 'gender': '', 'from': '', 'stayed': '', 'visited': '', 'caseNo': '', 'citizenship': ''}\n",
      "{'lat': 1.3597415879, 'lng': 103.749993145, 'caseType': 'oldCase', 'age': '38', 'gender': 'Female', 'from': 'Singapore', 'stayed': 'Bukit Batok Street 31', 'visited': 'Johor Bahru, KK Womens and Childrens Hospital, Ng Teng Fong General Hospital, Grand Hyatt Hotel', 'caseNo': '#36', 'citizenship': 'Singapore', 'relatedArrayNo': '40,49,74', 'mohURL': 'seven-more-confirmed-cases-of-novel-coronavirus-infection-in-singapore', 'location': '', 'relatedCaseNo': ''}\n",
      "{'lat': 1.34759993496, 'lng': 103.733304441, 'caseType': 'oldCase', 'age': '53', 'gender': 'Male', 'from': 'Singapore', 'stayed': 'Jurong East Street 32', 'visited': 'GP Clinic, Ng Teng Fong General Hospital', 'caseNo': '#37', 'citizenship': 'Singapore', 'relatedArrayNo': '74', 'mohURL': 'seven-more-confirmed-cases-of-novel-coronavirus-infection-in-singapore', 'location': '', 'relatedCaseNo': ''}\n",
      "{'lat': 1.38034579, 'lng': 103.741670251, 'caseType': 'oldCase', 'age': '52', 'gender': 'Female', 'from': 'Singapore', 'stayed': 'Choa Chu Kang Avenue 3', 'visited': 'Choa Chu Kang Polyclinic, The Life Church and Missions, Marina Bay Sands, Chinatown, Plaza Singapura', 'caseNo': '#38', 'citizenship': 'Singapore', 'relatedArrayNo': '78,61,23,79', 'mohURL': 'seven-more-confirmed-cases-of-novel-coronavirus-infection-in-singapore', 'location': '', 'relatedCaseNo': ''}\n",
      "{'lat': 1.3822576493, 'lng': 103.750819266, 'caseType': 'etcCase', 'location': 'Choa Chu Kang Polyclinic', 'relatedCaseNo': '#38', 'relatedArrayNo': '77', 'mohURL': '', 'age': '', 'gender': '', 'from': '', 'stayed': '', 'visited': '', 'caseNo': '', 'citizenship': ''}\n",
      "{'lat': 1.28407516256, 'lng': 103.843253553, 'caseType': 'etcCase', 'location': 'Chinatown', 'relatedCaseNo': '#38', 'relatedArrayNo': '77', 'mohURL': '', 'age': '', 'gender': '', 'from': '', 'stayed': '', 'visited': '', 'caseNo': '', 'citizenship': ''}\n",
      "{'lat': 1.30067381286, 'lng': 103.8450104, 'caseType': 'etcCase', 'location': 'Plaza Singapura', 'relatedCaseNo': '#38', 'relatedArrayNo': '77', 'mohURL': '', 'age': '', 'gender': '', 'from': '', 'stayed': '', 'visited': '', 'caseNo': '', 'citizenship': ''}\n",
      "{'lat': 1.3427920596, 'lng': 103.70561868, 'caseType': 'oldCase', 'age': '51', 'gender': 'Male', 'from': 'Singapore', 'stayed': 'Jurong West Central', 'visited': 'Malaysia, GP clinic, Grand Hyatt Hotel', 'caseNo': '#39', 'citizenship': 'Singapore', 'relatedArrayNo': '40', 'mohURL': 'seven-more-confirmed-cases-of-novel-coronavirus-infection-in-singapore', 'location': '', 'relatedCaseNo': ''}\n",
      "{'lat': 1.3330261175, 'lng': 103.926758766, 'caseType': 'oldCase', 'age': '36', 'gender': 'Male', 'from': 'Singapore', 'stayed': 'Bedok North Street', 'visited': 'GP clinic, Yong Thai Hang', 'caseNo': '#40', 'citizenship': 'Singapore', 'relatedArrayNo': '39', 'mohURL': 'seven-more-confirmed-cases-of-novel-coronavirus-infection-in-singapore', 'location': '', 'relatedCaseNo': ''}\n",
      "{'lat': 1.35732559688, 'lng': 103.882083893, 'caseType': 'newCase', 'age': '71', 'gender': 'Male', 'from': 'Singapore', 'stayed': 'Upper Serangoon Road', 'visited': 'GP clinic, Hougang Polyclinic, Tan Tock Seng Hospital, Paya Lebar Methodist Church, Braddell Heights Residents Committee, Pats Schoolhouse Kovan', 'caseNo': '#41', 'citizenship': 'Singapore', 'relatedArrayNo': '42,20,84,85', 'mohURL': 'four-more-cases-discharged-three-new-cases-of-novel-coronavirus-infection-confirmed', 'location': '', 'relatedCaseNo': ''}\n",
      "{'lat': 1.35264913238, 'lng': 103.875786066, 'caseType': 'etcCase', 'location': 'Paya Lebar Methodist Church', 'relatedCaseNo': '#41', 'relatedArrayNo': '83', 'mohURL': '', 'age': '', 'gender': '', 'from': '', 'stayed': '', 'visited': '', 'caseNo': '', 'citizenship': ''}\n",
      "{'lat': 1.35438671887, 'lng': 103.878047168, 'caseType': 'etcCase', 'location': 'Pats Schoolhouse Kovan', 'relatedCaseNo': '#41', 'relatedArrayNo': '83', 'mohURL': '', 'age': '', 'gender': '', 'from': '', 'stayed': '', 'visited': '', 'caseNo': '', 'citizenship': ''}\n",
      "{'lat': 1.33720922761, 'lng': 103.903868794, 'caseType': 'newCase', 'age': '39', 'gender': 'Male', 'from': 'Bangladesh (Work Pass)', 'stayed': 'The Leo Dormitory', 'visited': 'GP clinic, Changi General Hospital, Bedok Polyclinic, Mustafa Centre', 'caseNo': '#42', 'citizenship': 'Bangladesh', 'relatedArrayNo': '28,87,88', 'mohURL': 'four-more-cases-discharged-three-new-cases-of-novel-coronavirus-infection-confirmed', 'location': '', 'relatedCaseNo': ''}\n",
      "{'lat': 1.32662809049, 'lng': 103.932050765, 'caseType': 'etcCase', 'location': 'Bedok Polyclinic', 'relatedCaseNo': '#42', 'relatedArrayNo': '86', 'mohURL': '', 'age': '', 'gender': '', 'from': '', 'stayed': '', 'visited': '', 'caseNo': '', 'citizenship': ''}\n",
      "{'lat': 1.31006715263, 'lng': 103.855385184, 'caseType': 'etcCase', 'location': 'Mustafa Centre', 'relatedCaseNo': '#42', 'relatedArrayNo': '86', 'mohURL': '', 'age': '', 'gender': '', 'from': '', 'stayed': '', 'visited': '', 'caseNo': '', 'citizenship': ''}\n",
      "{'lat': 1.3944420291, 'lng': 103.880007863, 'caseType': 'newCase', 'age': '54', 'gender': 'Male', 'from': 'Singapore', 'stayed': 'Fernvale Close', 'visited': 'Malaysia, Sengkang General Hospital, GP clinic, Resorts World Sentosa, ', 'caseNo': '#43', 'citizenship': 'Singapore', 'relatedArrayNo': '25,90', 'mohURL': 'four-more-cases-discharged-three-new-cases-of-novel-coronavirus-infection-confirmed', 'location': '', 'relatedCaseNo': ''}\n",
      "{'lat': 1.25564804836, 'lng': 103.821036816, 'caseType': 'etcCase', 'location': 'Resorts World Sentosa', 'relatedCaseNo': '#43', 'relatedArrayNo': '89', 'mohURL': '', 'age': '', 'gender': '', 'from': '', 'stayed': '', 'visited': '', 'caseNo': '', 'citizenship': ''}\n"
     ]
    }
   ],
   "source": [
    "for d in data_dict['data']:\n",
    "    case = d['caseNo']\n",
    "    relatedCaseNo = d['relatedCaseNo']\n",
    "    stayed = d['stayed']\n",
    "    visited = d['visited']\n",
    "    links = d['relatedArrayNo']"
   ]
  },
  {
   "cell_type": "code",
   "execution_count": null,
   "metadata": {},
   "outputs": [],
   "source": []
  }
 ],
 "metadata": {
  "kernelspec": {
   "display_name": "Python 3",
   "language": "python",
   "name": "python3"
  },
  "language_info": {
   "codemirror_mode": {
    "name": "ipython",
    "version": 3
   },
   "file_extension": ".py",
   "mimetype": "text/x-python",
   "name": "python",
   "nbconvert_exporter": "python",
   "pygments_lexer": "ipython3",
   "version": "3.7.3"
  }
 },
 "nbformat": 4,
 "nbformat_minor": 2
}
